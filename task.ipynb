{
 "cells": [
  {
   "cell_type": "code",
   "execution_count": null,
   "metadata": {},
   "outputs": [],
   "source": [
    "#largest in a list\n",
    "a=[]\n",
    "print(\"enter elements\")\n",
    "for i in range(5):\n",
    "    a.append(input())\n",
    "max=a[i]\n",
    "for i in range(5):\n",
    "    if a[i]>max:\n",
    "        max=a[i]\n",
    "print(\"max element\",max)"
   ]
  },
  {
   "cell_type": "code",
   "execution_count": null,
   "metadata": {},
   "outputs": [],
   "source": [
    "#second largest\n",
    "b=[]\n",
    "print(\"enter elements\")\n",
    "for i in range(5):\n",
    "    b.append(input())\n",
    "b.sort()\n",
    "max=b[5-2]\n",
    "print(\"second max element\",max)"
   ]
  },
  {
   "cell_type": "code",
   "execution_count": null,
   "metadata": {},
   "outputs": [],
   "source": [
    "#merging two above list a and b\n",
    "c=a+b\n",
    "c.sort()\n",
    "print(c)"
   ]
  },
  {
   "cell_type": "code",
   "execution_count": null,
   "metadata": {},
   "outputs": [],
   "source": [
    "#swaping the element of first and last element of the above list c\n",
    "size=len(c)\n",
    "temp=c[0]\n",
    "c[0]=c[size-1]\n",
    "c[size-1]=temp\n",
    "print(c)"
   ]
  },
  {
   "cell_type": "code",
   "execution_count": null,
   "metadata": {},
   "outputs": [],
   "source": []
  }
 ],
 "metadata": {
  "kernelspec": {
   "display_name": "Python 3",
   "language": "python",
   "name": "python3"
  },
  "language_info": {
   "codemirror_mode": {
    "name": "ipython",
    "version": 3
   },
   "file_extension": ".py",
   "mimetype": "text/x-python",
   "name": "python",
   "nbconvert_exporter": "python",
   "pygments_lexer": "ipython3",
   "version": "3.7.4"
  }
 },
 "nbformat": 4,
 "nbformat_minor": 2
}
